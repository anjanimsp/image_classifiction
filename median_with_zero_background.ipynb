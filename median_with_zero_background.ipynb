{
 "cells": [
  {
   "cell_type": "code",
   "execution_count": 1,
   "metadata": {},
   "outputs": [],
   "source": [
    "import os\n",
    "import cv2\n",
    "import numpy as np"
   ]
  },
  {
   "cell_type": "code",
   "execution_count": 2,
   "metadata": {},
   "outputs": [],
   "source": [
    "def median_with_zero_background(image_array):\n",
    "    \n",
    "    idx=image_array[:,:,1]==0\n",
    "    ones=np.ones(image_array.shape)\n",
    "    ones[idx]=0\n",
    "    ones = ones.astype(np.uint8)\n",
    "    \n",
    "    #finding the edges\n",
    "    edges=cv2.Canny(ones,0,1)\n",
    "    \n",
    "    #dilating the detected edges\n",
    "    kernel = cv2.getStructuringElement(shape=cv2.MORPH_ELLIPSE, ksize=(3,3))\n",
    "    edges_dilated = cv2.morphologyEx(edges, cv2.MORPH_DILATE, kernel)\n",
    "    \n",
    "    \n",
    "    k=np.where(edges_dilated==255)\n",
    "    list_1=list(zip(k[0],k[1]))\n",
    "    \n",
    "    b,g,r=cv2.split(image_array)\n",
    "    \n",
    "    b_m = np.median(b)\n",
    "    g_m = np.median(g)\n",
    "    r_m = np.median(r)    \n",
    "    \n",
    "    for (i,j) in list_1:\n",
    "        b[i,j]=b_m\n",
    "        g[i,j]=g_m\n",
    "        r[i,j]=r_m\n",
    "    #image_array=cv2.merge((b,g,r))\n",
    "\n",
    "    b[b==0] = b_m\n",
    "    g[g==0] = g_m\n",
    "    r[r==0] = r_m\n",
    "    \n",
    "    output=cv2.merge((b,g,r))\n",
    "    \n",
    "    return np.uint8(output) "
   ]
  },
  {
   "cell_type": "code",
   "execution_count": 8,
   "metadata": {},
   "outputs": [],
   "source": [
    "source_path='/media/advenio/New Volume/inference_data/to_inference_clahe/2/'\n",
    "destination_path='/media/advenio/New Volume/inference_data/to_inference_median/2'"
   ]
  },
  {
   "cell_type": "code",
   "execution_count": 9,
   "metadata": {},
   "outputs": [],
   "source": [
    "for image in os.listdir(source_path):\n",
    "    image_name=\"\"\n",
    "    input_image=cv2.imread(f\"{source_path}/{image}\")\n",
    "    image_name=image[:-4]\n",
    "    output_image=median_with_zero_background(input_image)\n",
    "    cv2.imwrite(f'{destination_path}/{image_name}_median.png',output_image)"
   ]
  },
  {
   "cell_type": "code",
   "execution_count": 28,
   "metadata": {},
   "outputs": [
    {
     "name": "stdout",
     "output_type": "stream",
     "text": [
      "^C\r\n",
      "Traceback (most recent call last):\r\n",
      "  File \"<frozen importlib._bootstrap>\", line 888, in _find_spec\r\n",
      "AttributeError: '_SixMetaPathImporter' object has no attribute 'find_spec'\r\n",
      "\r\n",
      "During handling of the above exception, another exception occurred:\r\n",
      "\r\n",
      "Traceback (most recent call last):\r\n",
      "  File \"/home/advenio/anaconda3/envs/fastai/bin/pip\", line 7, in <module>\r\n",
      "    from pip._internal.main import main\r\n",
      "  File \"/home/advenio/anaconda3/envs/fastai/lib/python3.6/site-packages/pip/_internal/main.py\", line 13, in <module>\r\n",
      "    from pip._internal.cli.autocompletion import autocomplete\r\n",
      "  File \"/home/advenio/anaconda3/envs/fastai/lib/python3.6/site-packages/pip/_internal/cli/autocompletion.py\", line 11, in <module>\r\n",
      "    from pip._internal.cli.main_parser import create_main_parser\r\n",
      "  File \"/home/advenio/anaconda3/envs/fastai/lib/python3.6/site-packages/pip/_internal/cli/main_parser.py\", line 7, in <module>\r\n",
      "    from pip._internal.cli import cmdoptions\r\n",
      "  File \"/home/advenio/anaconda3/envs/fastai/lib/python3.6/site-packages/pip/_internal/cli/cmdoptions.py\", line 25, in <module>\r\n"
     ]
    }
   ],
   "source": [
    "# !pip install sys"
   ]
  },
  {
   "cell_type": "code",
   "execution_count": 7,
   "metadata": {},
   "outputs": [],
   "source": [
    "# import sys\n",
    "# numpy.set_printoptions(threshold=sys.maxsize)"
   ]
  },
  {
   "cell_type": "code",
   "execution_count": null,
   "metadata": {},
   "outputs": [],
   "source": []
  },
  {
   "cell_type": "code",
   "execution_count": null,
   "metadata": {},
   "outputs": [],
   "source": []
  }
 ],
 "metadata": {
  "kernelspec": {
   "display_name": "Python 3",
   "language": "python",
   "name": "python3"
  },
  "language_info": {
   "codemirror_mode": {
    "name": "ipython",
    "version": 3
   },
   "file_extension": ".py",
   "mimetype": "text/x-python",
   "name": "python",
   "nbconvert_exporter": "python",
   "pygments_lexer": "ipython3",
   "version": "3.7.1"
  }
 },
 "nbformat": 4,
 "nbformat_minor": 4
}
