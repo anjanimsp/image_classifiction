{
 "cells": [
  {
   "cell_type": "code",
   "execution_count": 10,
   "metadata": {},
   "outputs": [],
   "source": [
    "import cv2\n",
    "import random\n",
    "from scipy import ndarray\n",
    "import imutils\n",
    "import os\n",
    "import matplotlib.pyplot as plt\n",
    "import skimage as sk\n",
    "from skimage import io\n",
    "import shutil"
   ]
  },
  {
   "cell_type": "code",
   "execution_count": 11,
   "metadata": {},
   "outputs": [],
   "source": [
    "def rotation(image_array:ndarray):\n",
    "    image_array= cv2.copyMakeBorder(image_array,25,25,25,25,cv2.BORDER_CONSTANT,value=[0,0,0])   #padding\n",
    "    angle= random.randrange(22,180,45)\n",
    "    return imutils.rotate(cv2.resize(image_array,(512,512)), angle)\n",
    "\n",
    "# def rotation(image_array):\n",
    "#     image_array= cv2.copyMakeBorder(image_array,50,50,50,50,cv2.BORDER_CONSTANT,value=[0,0,0])  \n",
    "#     for angle in np.arange(0,180,9):\n",
    "#         return imutils.rotate(cv2.resize(image_array,(512,512)), angle)  "
   ]
  },
  {
   "cell_type": "code",
   "execution_count": 12,
   "metadata": {},
   "outputs": [],
   "source": [
    "def horizontal_flip(image_array: ndarray):\n",
    "    # horizontal flip doesn't need skimage, it's easy as flipping the image array of pixels!\n",
    "    return image_array[:, ::-1]"
   ]
  },
  {
   "cell_type": "markdown",
   "metadata": {},
   "source": [
    "### Source & Destination path"
   ]
  },
  {
   "cell_type": "code",
   "execution_count": 18,
   "metadata": {},
   "outputs": [],
   "source": [
    "source_path='/home/advenio/Desktop/for_aug/valid_for_aug/OTHERS'\n",
    "destination_path='/home/advenio/Desktop/for_aug/valid_for_aug/others_augmented'\n",
    "# dir_path=path\n",
    "# dest_path=path_i\n",
    "#print(os.path.exists(f\"{PATH_i}/rotation\"))"
   ]
  },
  {
   "cell_type": "code",
   "execution_count": 23,
   "metadata": {},
   "outputs": [
    {
     "ename": "FileNotFoundError",
     "evalue": "[Errno 2] No such file or directory: '/home/advenio/Desktop/for_aug/valid_for_aug/OTHERS'",
     "output_type": "error",
     "traceback": [
      "\u001b[0;31m---------------------------------------------------------------------------\u001b[0m",
      "\u001b[0;31mFileNotFoundError\u001b[0m                         Traceback (most recent call last)",
      "\u001b[0;32m<ipython-input-23-5fbb4d078ac6>\u001b[0m in \u001b[0;36m<module>\u001b[0;34m\u001b[0m\n\u001b[0;32m----> 1\u001b[0;31m \u001b[0;32mfor\u001b[0m \u001b[0mimage\u001b[0m \u001b[0;32min\u001b[0m \u001b[0mos\u001b[0m\u001b[0;34m.\u001b[0m\u001b[0mlistdir\u001b[0m\u001b[0;34m(\u001b[0m\u001b[0msource_path\u001b[0m\u001b[0;34m)\u001b[0m\u001b[0;34m:\u001b[0m\u001b[0;34m\u001b[0m\u001b[0;34m\u001b[0m\u001b[0m\n\u001b[0m\u001b[1;32m      2\u001b[0m     \u001b[0mimage_name\u001b[0m\u001b[0;34m=\u001b[0m\u001b[0;34m\"\"\u001b[0m\u001b[0;34m\u001b[0m\u001b[0;34m\u001b[0m\u001b[0m\n\u001b[1;32m      3\u001b[0m     \u001b[0minput_image\u001b[0m\u001b[0;34m=\u001b[0m\u001b[0mcv2\u001b[0m\u001b[0;34m.\u001b[0m\u001b[0mimread\u001b[0m\u001b[0;34m(\u001b[0m\u001b[0;34mf\"{source_path}/{image}\"\u001b[0m\u001b[0;34m)\u001b[0m\u001b[0;34m\u001b[0m\u001b[0;34m\u001b[0m\u001b[0m\n\u001b[1;32m      4\u001b[0m     \u001b[0mimage_name\u001b[0m\u001b[0;34m=\u001b[0m\u001b[0mimage\u001b[0m\u001b[0;34m[\u001b[0m\u001b[0;34m:\u001b[0m\u001b[0;34m-\u001b[0m\u001b[0;36m4\u001b[0m\u001b[0;34m]\u001b[0m\u001b[0;34m\u001b[0m\u001b[0;34m\u001b[0m\u001b[0m\n\u001b[1;32m      5\u001b[0m     \u001b[0moutput_image\u001b[0m\u001b[0;34m=\u001b[0m\u001b[0mrotation\u001b[0m\u001b[0;34m(\u001b[0m\u001b[0minput_image\u001b[0m\u001b[0;34m)\u001b[0m\u001b[0;34m\u001b[0m\u001b[0;34m\u001b[0m\u001b[0m\n",
      "\u001b[0;31mFileNotFoundError\u001b[0m: [Errno 2] No such file or directory: '/home/advenio/Desktop/for_aug/valid_for_aug/OTHERS'"
     ]
    }
   ],
   "source": [
    "for image in os.listdir(source_path):\n",
    "    image_name=\"\"\n",
    "    input_image=cv2.imread(f\"{source_path}/{image}\")\n",
    "    image_name=image[:-4]\n",
    "    output_image=rotation(input_image)\n",
    "    cv2.imwrite(f'{destination_path}/{image_name}_rotated.png',output_image)"
   ]
  },
  {
   "cell_type": "code",
   "execution_count": 19,
   "metadata": {},
   "outputs": [],
   "source": [
    "# def create_directory(path,dir_name):\n",
    "#     if os.path.exists(f\"{path}/{dir_name}\"):\n",
    "#         print(1)\n",
    "#         shutil.rmtree(f\"{path}/{dir_name}\")\n",
    "# #         shutil.rmtree(f'{Path}/Thresh_{dir_name}')\n",
    "#     else:\n",
    "#         os.mkdir(f'{path}/{dir_name}')\n",
    "# #         os.mkdir(f'{Path}/Thresh_{dir_name}')"
   ]
  },
  {
   "cell_type": "code",
   "execution_count": 20,
   "metadata": {},
   "outputs": [],
   "source": [
    "# for image in os.listdir(dir_path):\n",
    "#     input_image=cv2.imread(dir_path+'/'+image)\n",
    "#     output_image=rotation(input_image)\n",
    "#     cv2.imwrite(dest_path+'/'+image,output_image)"
   ]
  },
  {
   "cell_type": "code",
   "execution_count": 21,
   "metadata": {},
   "outputs": [],
   "source": [
    "# nested_dict = { 'rotate': {'rotate': rotation,\n",
    "#                            #'horizontal_flip': horizontal_flip\n",
    "#                           }\n",
    "#                           }    "
   ]
  },
  {
   "cell_type": "code",
   "execution_count": 22,
   "metadata": {},
   "outputs": [],
   "source": [
    "# # our folder path containing some images\n",
    "# folder_path = source_path\n",
    "# # the number of files to be generated\n",
    "\n",
    "# #lis=[]\n",
    "# # loop on all files of the folder and build a list of files paths\n",
    "# images = [os.path.join(folder_path, f) for f in os.listdir(folder_path) if os.path.isfile(os.path.join(folder_path, f))]\n",
    "# #print(images)\n",
    "\n",
    "# # the number of files to be generated\n",
    "# num_files_desired = 395\n",
    "\n",
    "# for i in nested_dict.keys():\n",
    "#     num_generated_files = 0\n",
    "#     lis=[]\n",
    "#     create_directory(destination_path,i)\n",
    "#     #print(nested_dict[i].keys())\n",
    "#     while num_generated_files <= num_files_desired:\n",
    "#         path_image=\"\"\n",
    "#         image_path = random.choice(images)\n",
    "#         string=image_path\n",
    "        \n",
    "#         for j in string[::-1]:\n",
    "#             if j =='/':\n",
    "#                 break\n",
    "#             else:\n",
    "#                 path_image+=j\n",
    "#         path_image=path_image[::-1]\n",
    "                \n",
    "#         image_to_transform = sk.io.imread(image_path)\n",
    "#         # random num of transformations to apply\n",
    "#         num_transformations_to_apply = random.randint(1, len(nested_dict[i].keys()))\n",
    "\n",
    "#         num_transformations = 0\n",
    "#         transformed_image = None   \n",
    "    \n",
    "\n",
    "#         while num_transformations <= num_transformations_to_apply:\n",
    "#             # choose a random transformation to apply for a single image\n",
    "#             key = random.choice(list(nested_dict[i].keys()))\n",
    "#             transformed_image = nested_dict[i][key](image_to_transform)\n",
    "#             num_transformations += 1\n",
    "\n",
    "#         new_path=f'{destination_path}/{i}'\n",
    "#         #name=f\"/home/advenio/Desktop/r-d/ADV-CDG-DT004/augmentation/{i}\"\n",
    "#         #print(name)\n",
    "#         #new_file_path =f'%s/Aug_augmented_image_%s.png' % (f\"{PATH_i}/{i}\", num_generated_files)\n",
    "#         new_file_path =f'{new_path}/{path_image}_{i}{num_generated_files}.png'\n",
    "\n",
    "#         # write image to the disk\n",
    "#         sk.io.imsave(new_file_path, transformed_image)\n",
    "         \n",
    "        \n",
    "# #             n_Path=f\"/home/advenio/Desktop/r-d/ADV-CDG-DT004/augmentation/Thresh_{i}\"\n",
    "# #             new_file_path =f'{n_Path}/Thresh_{i}{num_generated_files}.png'\n",
    "# #             sk.io.imsave(new_file_path, transformed_image)\n",
    "            \n",
    "            \n",
    "            \n",
    "        \n",
    "       \n",
    "#         num_generated_files+=1 "
   ]
  },
  {
   "cell_type": "code",
   "execution_count": null,
   "metadata": {},
   "outputs": [],
   "source": []
  }
 ],
 "metadata": {
  "kernelspec": {
   "display_name": "Python 3",
   "language": "python",
   "name": "python3"
  },
  "language_info": {
   "codemirror_mode": {
    "name": "ipython",
    "version": 3
   },
   "file_extension": ".py",
   "mimetype": "text/x-python",
   "name": "python",
   "nbconvert_exporter": "python",
   "pygments_lexer": "ipython3",
   "version": "3.6.10"
  }
 },
 "nbformat": 4,
 "nbformat_minor": 4
}
